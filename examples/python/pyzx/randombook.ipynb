{
 "cells": [
  {
   "cell_type": "code",
   "execution_count": 1,
   "metadata": {},
   "outputs": [],
   "source": [
    "from qiskit import QuantumCircuit, QiskitError\n",
    "#from qiskit import execute, BasicAer\n",
    "import qiskit.ignis.verification.randomized_benchmarking as rb\n",
    "#import qiskit.test.benchmarks.randomized_benchmarking as br\n",
    "import pyzx\n",
    "from pyzx.circuit.qasmparser import QASMParser\n",
    "from pyzx.circuit.qiskitqasmparser import QiskitQASMParser"
   ]
  },
  {
   "cell_type": "code",
   "execution_count": 46,
   "metadata": {},
   "outputs": [
    {
     "data": {
      "text/plain": [
       "qiskit.circuit.quantumcircuit.QuantumCircuit"
      ]
     },
     "execution_count": 46,
     "metadata": {},
     "output_type": "execute_result"
    }
   ],
   "source": [
    "#qc = rb.randomized_benchmarking_seq()\n",
    "qc = rb.randomized_benchmarking_seq(nseeds=1, length_vector=None,\n",
    "                                rb_pattern=[[0,1]],\n",
    "                                length_multiplier=1, seed_offset=0,\n",
    "                                align_cliffs=False,\n",
    "                                interleaved_gates=None,\n",
    "                                is_purity=False)\n",
    "qc = qc[0][0][0]\n",
    "type(qc)"
   ]
  },
  {
   "cell_type": "code",
   "execution_count": 47,
   "metadata": {},
   "outputs": [],
   "source": [
    "# setting up the backend\n",
    "# print(BasicAer.backends())\n",
    "\n",
    "# running the job\n",
    "# job_sim = execute(qc, BasicAer.get_backend('qasm_simulator'))\n",
    "# sim_result = job_sim.result()"
   ]
  },
  {
   "cell_type": "code",
   "execution_count": 48,
   "metadata": {
    "scrolled": true
   },
   "outputs": [],
   "source": [
    "# print(\"\\nPrint all gates:\")\n",
    "# [print(dat) for dat in qc.data]"
   ]
  },
  {
   "cell_type": "code",
   "execution_count": 49,
   "metadata": {
    "scrolled": false
   },
   "outputs": [
    {
     "name": "stdout",
     "output_type": "stream",
     "text": [
      "\n",
      "Print QASM:\n",
      "OPENQASM 2.0;\n",
      "include \"qelib1.inc\";\n",
      "qreg qr[2];\n",
      "creg cr[2];\n",
      "h qr[1];\n",
      "h qr[0];\n",
      "s qr[0];\n",
      "sdg qr[1];\n",
      "h qr[1];\n",
      "cx qr[0],qr[1];\n",
      "sdg qr[0];\n",
      "h qr[0];\n",
      "sdg qr[1];\n",
      "h qr[1];\n",
      "y qr[0];\n",
      "barrier qr[0],qr[1];\n",
      "y qr[0];\n",
      "h qr[1];\n",
      "s qr[1];\n",
      "h qr[0];\n",
      "s qr[0];\n",
      "cx qr[0],qr[1];\n",
      "h qr[1];\n",
      "s qr[1];\n",
      "sdg qr[0];\n",
      "h qr[0];\n",
      "h qr[1];\n",
      "measure qr[0] -> cr[0];\n",
      "measure qr[1] -> cr[1];\n",
      "\n"
     ]
    }
   ],
   "source": [
    "qasm = qc.qasm()\n",
    "print(\"\\nPrint QASM:\")\n",
    "print(qasm)"
   ]
  },
  {
   "cell_type": "code",
   "execution_count": 50,
   "metadata": {},
   "outputs": [
    {
     "name": "stdout",
     "output_type": "stream",
     "text": [
      "         ┌───┐ ┌───┐           ┌─────┐┌───┐┌───┐ ░ ┌───┐┌───┐┌───┐     ┌─────┐»\n",
      "qr_0: |0>┤ H ├─┤ S ├────────■──┤ Sdg ├┤ H ├┤ Y ├─░─┤ Y ├┤ H ├┤ S ├──■──┤ Sdg ├»\n",
      "         ├───┤┌┴───┴┐┌───┐┌─┴─┐├─────┤├───┤└───┘ ░ ├───┤├───┤└───┘┌─┴─┐└┬───┬┘»\n",
      "qr_1: |0>┤ H ├┤ Sdg ├┤ H ├┤ X ├┤ Sdg ├┤ H ├──────░─┤ H ├┤ S ├─────┤ X ├─┤ H ├─»\n",
      "         └───┘└─────┘└───┘└───┘└─────┘└───┘      ░ └───┘└───┘     └───┘ └───┘ »\n",
      " cr_0: 0 ═════════════════════════════════════════════════════════════════════»\n",
      "                                                                              »\n",
      " cr_1: 0 ═════════════════════════════════════════════════════════════════════»\n",
      "                                                                              »\n",
      "«      ┌───┐┌─┐        \n",
      "«qr_0: ┤ H ├┤M├────────\n",
      "«      ├───┤└╥┘┌───┐┌─┐\n",
      "«qr_1: ┤ S ├─╫─┤ H ├┤M├\n",
      "«      └───┘ ║ └───┘└╥┘\n",
      "«cr_0: ══════╩═══════╬═\n",
      "«                    ║ \n",
      "«cr_1: ══════════════╩═\n",
      "«                      \n"
     ]
    }
   ],
   "source": [
    "# Draw the circuit\n",
    "print(qc)"
   ]
  },
  {
   "cell_type": "code",
   "execution_count": null,
   "metadata": {},
   "outputs": [],
   "source": []
  },
  {
   "cell_type": "code",
   "execution_count": 51,
   "metadata": {
    "scrolled": false
   },
   "outputs": [
    {
     "name": "stdout",
     "output_type": "stream",
     "text": [
      "[Circuit(2 qubits, 10 gates), 'y qr[0];', 'barrier qr[0],qr[1];', 'y qr[0];', Circuit(2 qubits, 10 gates), 'measure qr[0] -> cr[0];', 'measure qr[1] -> cr[1];']\n",
      "[0, 4]\n"
     ]
    },
    {
     "data": {
      "image/png": "[encoded data removed]",
      "text/plain": [
       "<Figure size 432x288 with 2 Axes>"
      ]
     },
     "execution_count": 51,
     "metadata": {},
     "output_type": "execute_result"
    }
   ],
   "source": [
    "import matplotlib.pyplot as plt\n",
    "#qasm = qc.decompose().qasm()\n",
    "p = QiskitQASMParser()\n",
    "circ_list, whichpyzx = p.qiskitparse(qasm)\n",
    "print(circ_list)\n",
    "print(whichpyzx)\n",
    "pyzx.draw_many(circ_list, whichpyzx)\n",
    "\n",
    "\n",
    "#print(circ_list)\n",
    "#print(len(circ_list))\n",
    "#print(whichpyzx)\n",
    "# whichplt = 0\n",
    "# for i in range(len(circ_list)):\n",
    "#     if isinstance(circ_list[i], str):\n",
    "#         pass\n",
    "#     else:\n",
    "#         circ_list[i].name = \"pyzx_\" + qc.name + \"_\" + str(i)\n",
    "#         plt.axes(axs[whichplt])\n",
    "#         fig = pyzx.draw(circ_list[i])\n",
    "#         break\n",
    "#plt.show()\n",
    "#c.name = \"pyzx_\" + qc.name\n",
    "#pyzx.draw(c)\n",
    "#pyzx.draw(c.to_graph(), layout=None, labels=False, figsize=(16,4), h_edge_draw='blue', rows=None)"
   ]
  },
  {
   "cell_type": "code",
   "execution_count": 52,
   "metadata": {},
   "outputs": [
    {
     "data": {
      "image/png": "[encoded data removed]",
      "text/plain": [
       "<Figure size 432x288 with 2 Axes>"
      ]
     },
     "execution_count": 52,
     "metadata": {},
     "output_type": "execute_result"
    }
   ],
   "source": [
    "graph_list = [circ_list[w].to_graph() for w in whichpyzx]\n",
    "[pyzx.full_reduce(g) for g in graph_list]\n",
    "pyzx.draw_many(graph_list, range(len(whichpyzx)))"
   ]
  },
  {
   "cell_type": "code",
   "execution_count": 53,
   "metadata": {},
   "outputs": [
    {
     "name": "stdout",
     "output_type": "stream",
     "text": [
      "qreg q[2];\n",
      "h q[1];\n",
      "rz(1.5*pi) q[1];\n",
      "h q[0];\n",
      "cz q[1], q[0];\n",
      "h q[1];\n",
      "rz(1.5*pi) q[1];\n",
      "h q[0];\n",
      "h q[1];\n",
      "\n",
      "qreg q[2];\n",
      "h q[1];\n",
      "rz(0.5*pi) q[1];\n",
      "h q[0];\n",
      "h q[1];\n",
      "rz(0.5*pi) q[1];\n",
      "cz q[0], q[1];\n",
      "h q[0];\n",
      "h q[1];\n",
      "\n"
     ]
    }
   ],
   "source": [
    "# pyzx.draw(graph_list[1])\n",
    "# new_c = pyzx.extract.streaming_extract(graph_list[1])\n",
    "# print(new_c.to_basic_gates().to_qasm())\n",
    "\n",
    "pyzx_circ_list = [pyzx.extract.streaming_extract(g) for g in graph_list]\n",
    "##new_c = c.from_graph(g)\n",
    "pyzx_qasm = [new_c.to_basic_gates().to_qasm() for new_c in pyzx_circ_list]\n",
    "pyzx_qasm = [\"\\n\".join(string.splitlines()[2:]) for string in pyzx_qasm]\n",
    "##pyzx_qasm = [string.replace(';', '') for string in pyzx_qasm]\n",
    "for new_qasm in pyzx_qasm:\n",
    "    [print(line) for line in new_qasm.splitlines()]\n",
    "    print()"
   ]
  },
  {
   "cell_type": "code",
   "execution_count": 54,
   "metadata": {
    "scrolled": true
   },
   "outputs": [
    {
     "name": "stdout",
     "output_type": "stream",
     "text": [
      "OPENQASM 2.0;\n",
      "include \"qelib1.inc\";\n",
      "qreg qr[2];\n",
      "h qr[1];\n",
      "rz(1.5*pi) qr[1];\n",
      "h qr[0];\n",
      "cz qr[1], qr[0];\n",
      "h qr[1];\n",
      "rz(1.5*pi) qr[1];\n",
      "h qr[0];\n",
      "h qr[1];\n",
      "y qr[0];\n",
      "barrier qr[0],qr[1];\n",
      "y qr[0];\n",
      "qreg qr[2];\n",
      "h qr[1];\n",
      "rz(0.5*pi) qr[1];\n",
      "h qr[0];\n",
      "h qr[1];\n",
      "rz(0.5*pi) qr[1];\n",
      "cz qr[0], qr[1];\n",
      "h qr[0];\n",
      "h qr[1];\n",
      "measure qr[0] -> cr[0];\n",
      "measure qr[1] -> cr[1];\n"
     ]
    }
   ],
   "source": [
    "#now we need to map registers and glue all the pieces back together\n",
    "for i in range(len(pyzx_qasm)):\n",
    "    circ_list[whichpyzx[i]] = pyzx_qasm[i]\n",
    "#print(circ_list)\n",
    "## join the\n",
    "qasm_string = 'OPENQASM 2.0;\\ninclude \"qelib1.inc\";\\n'+\"\\n\".join(circ_list)\n",
    "qasm_string = qasm_string.replace('q[', 'qr[')\n",
    "print(qasm_string)"
   ]
  },
  {
   "cell_type": "code",
   "execution_count": null,
   "metadata": {},
   "outputs": [],
   "source": []
  },
  {
   "cell_type": "code",
   "execution_count": 55,
   "metadata": {
    "scrolled": true
   },
   "outputs": [
    {
     "name": "stdout",
     "output_type": "stream",
     "text": [
      "OPENQASM 2.0;\n",
      "\n",
      "include \"qelib1.inc\";\n",
      "\n",
      "qreg qr[2];\n",
      "\n",
      "creg cr[2];\n",
      "measure qr[0] -> cr[0];\n",
      "measure qr[1] -> cr[1];\n",
      "\n"
     ]
    }
   ],
   "source": [
    "pqsl = [line + \"\\n\" for line in pyzx_qasm] #took out .splitlines()\n",
    "qsl = [line + \"\\n\" for line in qasm.splitlines()]\n",
    "# print(pqsl)\n",
    "# print(qsl)\n",
    "new_qasm = '\\n'.join(qsl[0:4]) + ''.join(pqsl[3:]) + ''.join(qsl[-2:])\n",
    "new_qasm = new_qasm.replace('q[', 'qr[')\n",
    "print(new_qasm)"
   ]
  },
  {
   "cell_type": "code",
   "execution_count": null,
   "metadata": {},
   "outputs": [],
   "source": [
    "new_qc = qc.from_qasm_str(new_qasm)\n",
    "print(new_qc)"
   ]
  },
  {
   "cell_type": "code",
   "execution_count": null,
   "metadata": {},
   "outputs": [],
   "source": []
  },
  {
   "cell_type": "code",
   "execution_count": null,
   "metadata": {},
   "outputs": [],
   "source": []
  }
 ],
 "metadata": {
  "kernelspec": {
   "display_name": "Python 3",
   "language": "python",
   "name": "python3"
  },
  "language_info": {
   "codemirror_mode": {
    "name": "ipython",
    "version": 3
   },
   "file_extension": ".py",
   "mimetype": "text/x-python",
   "name": "python",
   "nbconvert_exporter": "python",
   "pygments_lexer": "ipython3",
   "version": "3.7.3"
  }
 },
 "nbformat": 4,
 "nbformat_minor": 2
}
