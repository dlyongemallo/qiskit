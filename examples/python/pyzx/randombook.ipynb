{
 "cells": [
  {
   "cell_type": "code",
   "execution_count": 1,
   "metadata": {},
   "outputs": [],
   "source": [
    "from qiskit import QuantumCircuit, QiskitError\n",
    "#from qiskit import execute, BasicAer\n",
    "import qiskit.ignis.verification.randomized_benchmarking as rb\n",
    "#import qiskit.test.benchmarks.randomized_benchmarking as br\n",
    "import pyzx\n",
    "from pyzx.circuit.qasmparser import QASMParser\n",
    "from pyzx.circuit.qiskitqasmparser import QiskitQASMParser"
   ]
  },
  {
   "cell_type": "code",
   "execution_count": 29,
   "metadata": {},
   "outputs": [
    {
     "data": {
      "text/plain": [
       "qiskit.circuit.quantumcircuit.QuantumCircuit"
      ]
     },
     "execution_count": 29,
     "metadata": {},
     "output_type": "execute_result"
    }
   ],
   "source": [
    "#qc = rb.randomized_benchmarking_seq()\n",
    "qc = rb.randomized_benchmarking_seq(nseeds=1, length_vector=None,\n",
    "                                rb_pattern=[[0,1]],\n",
    "                                length_multiplier=1, seed_offset=0,\n",
    "                                align_cliffs=False,\n",
    "                                interleaved_gates=None,\n",
    "                                is_purity=False)\n",
    "qc = qc[0][0][0]\n",
    "type(qc)"
   ]
  },
  {
   "cell_type": "code",
   "execution_count": 3,
   "metadata": {},
   "outputs": [],
   "source": [
    "# setting up the backend\n",
    "# print(BasicAer.backends())\n",
    "\n",
    "# running the job\n",
    "# job_sim = execute(qc, BasicAer.get_backend('qasm_simulator'))\n",
    "# sim_result = job_sim.result()"
   ]
  },
  {
   "cell_type": "code",
   "execution_count": 4,
   "metadata": {
    "scrolled": true
   },
   "outputs": [],
   "source": [
    "# print(\"\\nPrint all gates:\")\n",
    "# [print(dat) for dat in qc.data]"
   ]
  },
  {
   "cell_type": "code",
   "execution_count": 30,
   "metadata": {
    "scrolled": false
   },
   "outputs": [
    {
     "name": "stdout",
     "output_type": "stream",
     "text": [
      "\n",
      "Print QASM:\n",
      "OPENQASM 2.0;\n",
      "include \"qelib1.inc\";\n",
      "qreg qr[2];\n",
      "creg cr[2];\n",
      "h qr[0];\n",
      "h qr[1];\n",
      "cx qr[0],qr[1];\n",
      "cx qr[1],qr[0];\n",
      "h qr[1];\n",
      "s qr[1];\n",
      "y qr[0];\n",
      "barrier qr[0],qr[1];\n",
      "y qr[0];\n",
      "sdg qr[1];\n",
      "h qr[1];\n",
      "cx qr[1],qr[0];\n",
      "cx qr[0],qr[1];\n",
      "h qr[1];\n",
      "h qr[0];\n",
      "measure qr[0] -> cr[0];\n",
      "measure qr[1] -> cr[1];\n",
      "\n"
     ]
    }
   ],
   "source": [
    "qasm = qc.qasm()\n",
    "print(\"\\nPrint QASM:\")\n",
    "print(qasm)"
   ]
  },
  {
   "cell_type": "code",
   "execution_count": 31,
   "metadata": {},
   "outputs": [
    {
     "name": "stdout",
     "output_type": "stream",
     "text": [
      "         ┌───┐     ┌───┐┌───┐      ░  ┌───┐      ┌───┐     ┌───┐┌─┐   \n",
      "qr_0: |0>┤ H ├──■──┤ X ├┤ Y ├──────░──┤ Y ├──────┤ X ├──■──┤ H ├┤M├───\n",
      "         ├───┤┌─┴─┐└─┬─┘├───┤┌───┐ ░ ┌┴───┴┐┌───┐└─┬─┘┌─┴─┐├───┤└╥┘┌─┐\n",
      "qr_1: |0>┤ H ├┤ X ├──■──┤ H ├┤ S ├─░─┤ Sdg ├┤ H ├──■──┤ X ├┤ H ├─╫─┤M├\n",
      "         └───┘└───┘     └───┘└───┘ ░ └─────┘└───┘     └───┘└───┘ ║ └╥┘\n",
      " cr_0: 0 ════════════════════════════════════════════════════════╩══╬═\n",
      "                                                                    ║ \n",
      " cr_1: 0 ═══════════════════════════════════════════════════════════╩═\n",
      "                                                                      \n"
     ]
    }
   ],
   "source": [
    "# Draw the circuit\n",
    "print(qc)"
   ]
  },
  {
   "cell_type": "code",
   "execution_count": null,
   "metadata": {},
   "outputs": [],
   "source": []
  },
  {
   "cell_type": "code",
   "execution_count": 72,
   "metadata": {
    "scrolled": false
   },
   "outputs": [
    {
     "name": "stdout",
     "output_type": "stream",
     "text": [
      "['u2(0,pi) qr[0]', 'u2(0,pi) qr[1]', Circuit(2 qubits, 2 gates), 'u3(pi,pi/2,pi/2) qr[0]', 'u2(0,pi) qr[1]', 'u1(pi/2) qr[1]', 'u3(pi,pi/2,pi/2) qr[0]', 'u1(-pi/2) qr[1]', 'u2(0,pi) qr[1]', Circuit(2 qubits, 2 gates), 'u2(0,pi) qr[0]', 'u2(0,pi) qr[1]', Circuit(2 qubits, 0 gates)]\n",
      "[2, 9, 12]\n"
     ]
    },
    {
     "data": {
      "image/png": "[encoded data removed]",
      "text/plain": [
       "<Figure size 432x288 with 3 Axes>"
      ]
     },
     "execution_count": 72,
     "metadata": {},
     "output_type": "execute_result"
    }
   ],
   "source": [
    "import matplotlib.pyplot as plt\n",
    "qasm = qc.decompose().qasm()\n",
    "p = QiskitQASMParser()\n",
    "circ_list, whichpyzx = p.qiskitparse(qasm)\n",
    "print(circ_list)\n",
    "print(whichpyzx)\n",
    "pyzx.draw_many(circ_list, whichpyzx)\n",
    "\n",
    "\n",
    "#print(circ_list)\n",
    "#print(len(circ_list))\n",
    "#print(whichpyzx)\n",
    "# whichplt = 0\n",
    "# for i in range(len(circ_list)):\n",
    "#     if isinstance(circ_list[i], str):\n",
    "#         pass\n",
    "#     else:\n",
    "#         circ_list[i].name = \"pyzx_\" + qc.name + \"_\" + str(i)\n",
    "#         plt.axes(axs[whichplt])\n",
    "#         fig = pyzx.draw(circ_list[i])\n",
    "#         break\n",
    "#plt.show()\n",
    "#c.name = \"pyzx_\" + qc.name\n",
    "#pyzx.draw(c)\n",
    "#pyzx.draw(c.to_graph(), layout=None, labels=False, figsize=(16,4), h_edge_draw='blue', rows=None)\n"
   ]
  },
  {
   "cell_type": "code",
   "execution_count": 8,
   "metadata": {},
   "outputs": [
    {
     "data": {
      "image/png": "[encoded data removed]",
      "text/plain": [
       "<Figure size 1152x288 with 1 Axes>"
      ]
     },
     "execution_count": 8,
     "metadata": {},
     "output_type": "execute_result"
    }
   ],
   "source": [
    "c = circ_list[0]\n",
    "g = c.to_graph()\n",
    "pyzx.full_reduce(g)\n",
    "#g.normalise()\n",
    "pyzx.draw(g, layout=None, labels=False, figsize=(16,4), h_edge_draw='blue', rows=None)"
   ]
  },
  {
   "cell_type": "code",
   "execution_count": 9,
   "metadata": {},
   "outputs": [
    {
     "ename": "TypeError",
     "evalue": "Graph doesn't seem circuit like: multiple parents",
     "output_type": "error",
     "traceback": [
      "\u001b[0;31m---------------------------------------------------------------------------\u001b[0m",
      "\u001b[0;31mTypeError\u001b[0m                                 Traceback (most recent call last)",
      "\u001b[0;32m<ipython-input-9-f2d5dd20ca4c>\u001b[0m in \u001b[0;36m<module>\u001b[0;34m\u001b[0m\n\u001b[1;32m      1\u001b[0m \u001b[0;31m#new_c = pyzx.extract.streaming_extract(g)\u001b[0m\u001b[0;34m\u001b[0m\u001b[0;34m\u001b[0m\u001b[0;34m\u001b[0m\u001b[0m\n\u001b[0;32m----> 2\u001b[0;31m \u001b[0mnew_c\u001b[0m \u001b[0;34m=\u001b[0m \u001b[0mc\u001b[0m\u001b[0;34m.\u001b[0m\u001b[0mfrom_graph\u001b[0m\u001b[0;34m(\u001b[0m\u001b[0mg\u001b[0m\u001b[0;34m)\u001b[0m\u001b[0;34m\u001b[0m\u001b[0;34m\u001b[0m\u001b[0m\n\u001b[0m\u001b[1;32m      3\u001b[0m \u001b[0mpyzx_qasm\u001b[0m \u001b[0;34m=\u001b[0m \u001b[0mnew_c\u001b[0m\u001b[0;34m.\u001b[0m\u001b[0mto_basic_gates\u001b[0m\u001b[0;34m(\u001b[0m\u001b[0;34m)\u001b[0m\u001b[0;34m.\u001b[0m\u001b[0mto_qasm\u001b[0m\u001b[0;34m(\u001b[0m\u001b[0;34m)\u001b[0m\u001b[0;34m\u001b[0m\u001b[0;34m\u001b[0m\u001b[0m\n\u001b[1;32m      4\u001b[0m \u001b[0mprint\u001b[0m\u001b[0;34m(\u001b[0m\u001b[0mpyzx_qasm\u001b[0m\u001b[0;34m)\u001b[0m\u001b[0;34m\u001b[0m\u001b[0;34m\u001b[0m\u001b[0m\n",
      "\u001b[0;32m~/Documents/pyzx/pyzx/circuit/__init__.py\u001b[0m in \u001b[0;36mfrom_graph\u001b[0;34m(g, split_phases)\u001b[0m\n\u001b[1;32m    154\u001b[0m         Z,S, and T gates or if generic ZPhase/XPhase gates should be used.\"\"\"\n\u001b[1;32m    155\u001b[0m         \u001b[0;32mfrom\u001b[0m \u001b[0;34m.\u001b[0m\u001b[0mgraphparser\u001b[0m \u001b[0;32mimport\u001b[0m \u001b[0mgraph_to_circuit\u001b[0m\u001b[0;34m\u001b[0m\u001b[0;34m\u001b[0m\u001b[0m\n\u001b[0;32m--> 156\u001b[0;31m         \u001b[0;32mreturn\u001b[0m \u001b[0mgraph_to_circuit\u001b[0m\u001b[0;34m(\u001b[0m\u001b[0mg\u001b[0m\u001b[0;34m,\u001b[0m \u001b[0msplit_phases\u001b[0m\u001b[0;34m=\u001b[0m\u001b[0msplit_phases\u001b[0m\u001b[0;34m)\u001b[0m\u001b[0;34m\u001b[0m\u001b[0;34m\u001b[0m\u001b[0m\n\u001b[0m\u001b[1;32m    157\u001b[0m \u001b[0;34m\u001b[0m\u001b[0m\n\u001b[1;32m    158\u001b[0m     \u001b[0;32mdef\u001b[0m \u001b[0mto_graph\u001b[0m\u001b[0;34m(\u001b[0m\u001b[0mself\u001b[0m\u001b[0;34m,\u001b[0m \u001b[0mcompress_rows\u001b[0m\u001b[0;34m=\u001b[0m\u001b[0;32mTrue\u001b[0m\u001b[0;34m,\u001b[0m \u001b[0mbackend\u001b[0m\u001b[0;34m=\u001b[0m\u001b[0;32mNone\u001b[0m\u001b[0;34m)\u001b[0m\u001b[0;34m:\u001b[0m\u001b[0;34m\u001b[0m\u001b[0;34m\u001b[0m\u001b[0m\n",
      "\u001b[0;32m~/Documents/pyzx/pyzx/circuit/graphparser.py\u001b[0m in \u001b[0;36mgraph_to_circuit\u001b[0;34m(g, split_phases)\u001b[0m\n\u001b[1;32m     21\u001b[0m             \u001b[0mneigh\u001b[0m \u001b[0;34m=\u001b[0m \u001b[0;34m[\u001b[0m\u001b[0mw\u001b[0m \u001b[0;32mfor\u001b[0m \u001b[0mw\u001b[0m \u001b[0;32min\u001b[0m \u001b[0mg\u001b[0m\u001b[0;34m.\u001b[0m\u001b[0mneighbours\u001b[0m\u001b[0;34m(\u001b[0m\u001b[0mv\u001b[0m\u001b[0;34m)\u001b[0m \u001b[0;32mif\u001b[0m \u001b[0mrs\u001b[0m\u001b[0;34m[\u001b[0m\u001b[0mw\u001b[0m\u001b[0;34m]\u001b[0m\u001b[0;34m<\u001b[0m\u001b[0mr\u001b[0m\u001b[0;34m]\u001b[0m\u001b[0;34m\u001b[0m\u001b[0;34m\u001b[0m\u001b[0m\n\u001b[1;32m     22\u001b[0m             \u001b[0;32mif\u001b[0m \u001b[0mlen\u001b[0m\u001b[0;34m(\u001b[0m\u001b[0mneigh\u001b[0m\u001b[0;34m)\u001b[0m \u001b[0;34m!=\u001b[0m \u001b[0;36m1\u001b[0m\u001b[0;34m:\u001b[0m\u001b[0;34m\u001b[0m\u001b[0;34m\u001b[0m\u001b[0m\n\u001b[0;32m---> 23\u001b[0;31m                 \u001b[0;32mraise\u001b[0m \u001b[0mTypeError\u001b[0m\u001b[0;34m(\u001b[0m\u001b[0;34m\"Graph doesn't seem circuit like: multiple parents\"\u001b[0m\u001b[0;34m)\u001b[0m\u001b[0;34m\u001b[0m\u001b[0;34m\u001b[0m\u001b[0m\n\u001b[0m\u001b[1;32m     24\u001b[0m             \u001b[0mn\u001b[0m \u001b[0;34m=\u001b[0m \u001b[0mneigh\u001b[0m\u001b[0;34m[\u001b[0m\u001b[0;36m0\u001b[0m\u001b[0;34m]\u001b[0m\u001b[0;34m\u001b[0m\u001b[0;34m\u001b[0m\u001b[0m\n\u001b[1;32m     25\u001b[0m             \u001b[0;32mif\u001b[0m \u001b[0mqs\u001b[0m\u001b[0;34m[\u001b[0m\u001b[0mn\u001b[0m\u001b[0;34m]\u001b[0m \u001b[0;34m!=\u001b[0m \u001b[0mq\u001b[0m\u001b[0;34m:\u001b[0m\u001b[0;34m\u001b[0m\u001b[0;34m\u001b[0m\u001b[0m\n",
      "\u001b[0;31mTypeError\u001b[0m: Graph doesn't seem circuit like: multiple parents"
     ]
    }
   ],
   "source": [
    "#new_c = pyzx.extract.streaming_extract(g)\n",
    "new_c = c.from_graph(g)\n",
    "pyzx_qasm = new_c.to_basic_gates().to_qasm()\n",
    "print(pyzx_qasm)"
   ]
  },
  {
   "cell_type": "code",
   "execution_count": null,
   "metadata": {
    "scrolled": true
   },
   "outputs": [],
   "source": [
    "pqsl = [line + \"\\n\" for line in pyzx_qasm.splitlines()]\n",
    "qsl = [line + \"\\n\" for line in qasm.splitlines()]\n",
    "# print(pqsl)\n",
    "# print(qsl)\n",
    "new_qasm = ''.join(qsl[0:4]) + ''.join(pqsl[3:]) + ''.join(qsl[-2:])\n",
    "new_qasm = new_qasm.replace('q[', 'qr[')\n",
    "print(new_qasm)"
   ]
  },
  {
   "cell_type": "code",
   "execution_count": null,
   "metadata": {},
   "outputs": [],
   "source": [
    "new_qc = qc.from_qasm_str(new_qasm)\n",
    "print(new_qc)"
   ]
  },
  {
   "cell_type": "code",
   "execution_count": null,
   "metadata": {},
   "outputs": [],
   "source": []
  },
  {
   "cell_type": "code",
   "execution_count": null,
   "metadata": {},
   "outputs": [],
   "source": []
  }
 ],
 "metadata": {
  "kernelspec": {
   "display_name": "Python 3",
   "language": "python",
   "name": "python3"
  },
  "language_info": {
   "codemirror_mode": {
    "name": "ipython",
    "version": 3
   },
   "file_extension": ".py",
   "mimetype": "text/x-python",
   "name": "python",
   "nbconvert_exporter": "python",
   "pygments_lexer": "ipython3",
   "version": "3.7.3"
  }
 },
 "nbformat": 4,
 "nbformat_minor": 2
}
