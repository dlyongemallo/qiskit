{
 "cells": [
  {
   "cell_type": "code",
   "execution_count": 1,
   "metadata": {},
   "outputs": [],
   "source": [
    "from qiskit import QuantumCircuit, QiskitError\n",
    "#from qiskit import execute, BasicAer\n",
    "import qiskit.ignis.verification.randomized_benchmarking as rb\n",
    "#import qiskit.test.benchmarks.randomized_benchmarking as br\n",
    "import pyzx\n",
    "from pyzx.circuit.qasmparser import QASMParser\n",
    "from pyzx.circuit.qiskitqasmparser import QiskitQASMParser"
   ]
  },
  {
   "cell_type": "code",
   "execution_count": 488,
   "metadata": {},
   "outputs": [
    {
     "data": {
      "text/plain": [
       "qiskit.circuit.quantumcircuit.QuantumCircuit"
      ]
     },
     "execution_count": 488,
     "metadata": {},
     "output_type": "execute_result"
    }
   ],
   "source": [
    "#qc = rb.randomized_benchmarking_seq()\n",
    "qc = rb.randomized_benchmarking_seq(nseeds=1, length_vector=None,\n",
    "                                rb_pattern=[[0,1]],\n",
    "                                length_multiplier=1, seed_offset=0,\n",
    "                                align_cliffs=False,\n",
    "                                interleaved_gates=None,\n",
    "                                is_purity=False)\n",
    "qc = qc[0][0][0]\n",
    "type(qc)"
   ]
  },
  {
   "cell_type": "code",
   "execution_count": 489,
   "metadata": {},
   "outputs": [],
   "source": [
    "# setting up the backend\n",
    "# print(BasicAer.backends())\n",
    "\n",
    "# running the job\n",
    "# job_sim = execute(qc, BasicAer.get_backend('qasm_simulator'))\n",
    "# sim_result = job_sim.result()"
   ]
  },
  {
   "cell_type": "code",
   "execution_count": 490,
   "metadata": {
    "scrolled": true
   },
   "outputs": [],
   "source": [
    "# print(\"\\nPrint all gates:\")\n",
    "# [print(dat) for dat in qc.data]"
   ]
  },
  {
   "cell_type": "code",
   "execution_count": 491,
   "metadata": {
    "scrolled": false
   },
   "outputs": [
    {
     "name": "stdout",
     "output_type": "stream",
     "text": [
      "\n",
      "Print QASM:\n",
      "OPENQASM 2.0;\n",
      "include \"qelib1.inc\";\n",
      "qreg qr[2];\n",
      "creg cr[2];\n",
      "h qr[0];\n",
      "h qr[1];\n",
      "sdg qr[0];\n",
      "h qr[0];\n",
      "sdg qr[1];\n",
      "h qr[1];\n",
      "cx qr[0],qr[1];\n",
      "cx qr[1],qr[0];\n",
      "sdg qr[0];\n",
      "h qr[0];\n",
      "h qr[1];\n",
      "s qr[1];\n",
      "x qr[0];\n",
      "z qr[1];\n",
      "barrier qr[0],qr[1];\n",
      "z qr[1];\n",
      "x qr[0];\n",
      "sdg qr[1];\n",
      "h qr[1];\n",
      "h qr[0];\n",
      "s qr[0];\n",
      "cx qr[1],qr[0];\n",
      "cx qr[0],qr[1];\n",
      "h qr[1];\n",
      "s qr[1];\n",
      "h qr[0];\n",
      "s qr[0];\n",
      "h qr[1];\n",
      "h qr[0];\n",
      "measure qr[0] -> cr[0];\n",
      "measure qr[1] -> cr[1];\n",
      "\n"
     ]
    }
   ],
   "source": [
    "qasm = qc.qasm()\n",
    "#qasm = '\\n'.join(['' if line.startswith(\"barrier\") else line for line in qasm.splitlines()])\n",
    "\n",
    "print(\"\\nPrint QASM:\")\n",
    "print(qasm)\n",
    "\n",
    "# failed:\n",
    "# OPENQASM 2.0;\n",
    "# include \"qelib1.inc\";\n",
    "# qreg qr[2];\n",
    "# creg cr[2];\n",
    "# h qr[1];\n",
    "# sdg qr[0];\n",
    "# h qr[0];\n",
    "# sdg qr[1];\n",
    "# h qr[1];\n",
    "# cx qr[0],qr[1];\n",
    "# cx qr[1],qr[0];\n",
    "# z qr[0];\n",
    "# barrier qr[0],qr[1];\n",
    "# z qr[0];\n",
    "# cx qr[1],qr[0];\n",
    "# cx qr[0],qr[1];\n",
    "# h qr[1];\n",
    "# s qr[1];\n",
    "# h qr[0];\n",
    "# s qr[0];\n",
    "# h qr[1];\n",
    "# measure qr[0] -> cr[0];\n",
    "# measure qr[1] -> cr[1];\n",
    "\n",
    "\n"
   ]
  },
  {
   "cell_type": "code",
   "execution_count": 492,
   "metadata": {},
   "outputs": [
    {
     "name": "stdout",
     "output_type": "stream",
     "text": [
      "         ┌───┐┌─────┐┌───┐     ┌───┐┌─────┐┌───┐┌───┐ ░ ┌───┐ ┌───┐ ┌───┐┌───┐»\n",
      "qr_0: |0>┤ H ├┤ Sdg ├┤ H ├──■──┤ X ├┤ Sdg ├┤ H ├┤ X ├─░─┤ X ├─┤ H ├─┤ S ├┤ X ├»\n",
      "         ├───┤├─────┤├───┤┌─┴─┐└─┬─┘└┬───┬┘├───┤├───┤ ░ ├───┤┌┴───┴┐├───┤└─┬─┘»\n",
      "qr_1: |0>┤ H ├┤ Sdg ├┤ H ├┤ X ├──■───┤ H ├─┤ S ├┤ Z ├─░─┤ Z ├┤ Sdg ├┤ H ├──■──»\n",
      "         └───┘└─────┘└───┘└───┘      └───┘ └───┘└───┘ ░ └───┘└─────┘└───┘     »\n",
      " cr_0: 0 ═════════════════════════════════════════════════════════════════════»\n",
      "                                                                              »\n",
      " cr_1: 0 ═════════════════════════════════════════════════════════════════════»\n",
      "                                                                              »\n",
      "«           ┌───┐┌───┐┌───┐┌─┐   \n",
      "«qr_0: ──■──┤ H ├┤ S ├┤ H ├┤M├───\n",
      "«      ┌─┴─┐├───┤├───┤├───┤└╥┘┌─┐\n",
      "«qr_1: ┤ X ├┤ H ├┤ S ├┤ H ├─╫─┤M├\n",
      "«      └───┘└───┘└───┘└───┘ ║ └╥┘\n",
      "«cr_0: ═════════════════════╩══╬═\n",
      "«                              ║ \n",
      "«cr_1: ════════════════════════╩═\n",
      "«                                \n"
     ]
    }
   ],
   "source": [
    "# Draw the circuit\n",
    "print(qc)"
   ]
  },
  {
   "cell_type": "code",
   "execution_count": 493,
   "metadata": {},
   "outputs": [
    {
     "name": "stdout",
     "output_type": "stream",
     "text": [
      "['qreg qr[2];', 'creg cr[2];', Circuit(2 qubits, 14 gates), 'barrier qr[0],qr[1];', Circuit(2 qubits, 14 gates), 'measure qr[0] -> cr[0];', 'measure qr[1] -> cr[1];']\n",
      "[2, 4]\n",
      "{'qr': (0, 2)}\n"
     ]
    }
   ],
   "source": [
    "p = QiskitQASMParser()\n",
    "circ_list, whichpyzx = p.qiskitparse(qasm)\n",
    "print(circ_list)\n",
    "print(whichpyzx)\n",
    "print(p.registers)"
   ]
  },
  {
   "cell_type": "code",
   "execution_count": 494,
   "metadata": {
    "scrolled": false
   },
   "outputs": [
    {
     "data": {
      "image/png": "[encoded data removed]",
      "text/plain": [
       "<Figure size 432x288 with 2 Axes>"
      ]
     },
     "execution_count": 494,
     "metadata": {},
     "output_type": "execute_result"
    }
   ],
   "source": [
    "#qasm = qc.decompose().qasm()\n",
    "pyzx.draw_many(circ_list, whichpyzx)"
   ]
  },
  {
   "cell_type": "code",
   "execution_count": 495,
   "metadata": {},
   "outputs": [
    {
     "data": {
      "image/png": "[encoded data removed]",
      "text/plain": [
       "<Figure size 432x288 with 2 Axes>"
      ]
     },
     "execution_count": 495,
     "metadata": {},
     "output_type": "execute_result"
    }
   ],
   "source": [
    "graph_list = [circ_list[w].to_graph() for w in whichpyzx]\n",
    "[pyzx.full_reduce(g) for g in graph_list]\n",
    "pyzx.draw_many(graph_list, range(len(whichpyzx)))"
   ]
  },
  {
   "cell_type": "code",
   "execution_count": 496,
   "metadata": {},
   "outputs": [
    {
     "name": "stdout",
     "output_type": "stream",
     "text": [
      "\n",
      "h q[0];\n",
      "z q[0];\n",
      "rz(0.5*pi) q[1];\n",
      "cx q[0], q[1];\n",
      "x q[1];\n",
      "\n",
      "\n",
      "cx q[1], q[0];\n",
      "h q[1];\n",
      "rz(0.5*pi) q[0];\n",
      "x q[0];\n",
      "x q[1];\n",
      "\n"
     ]
    }
   ],
   "source": [
    "pyzx_circ_list = [pyzx.extract.streaming_extract(g) for g in graph_list]\n",
    "\n",
    "for i in range(len(pyzx_circ_list)):\n",
    "    prev = pyzx_circ_list[i]\n",
    "    next = pyzx.extract.streaming_extract(graph_list[i])\n",
    "    while prev.gates != next.gates:\n",
    "        for gate in next.gates:\n",
    "            pyzx_circ_list[i].add_gate(gate)\n",
    "        prev = next\n",
    "        next = pyzx.extract.streaming_extract(graph_list[i])\n",
    "\n",
    "pyzx_circ_list = [pyzx.optimize.basic_optimization(new_c.to_basic_gates()) for new_c in pyzx_circ_list]\n",
    "\n",
    "pyzx_qasm = [new_c.to_basic_gates().to_qasm() for new_c in pyzx_circ_list]\n",
    "\n",
    "pyzx_qasm = [\"\\n\".join(['' if line.startswith(\"qreg\") else line for line in circ.splitlines()[2:]]) for circ in pyzx_qasm]\n",
    "\n",
    "for new_qasm in pyzx_qasm:\n",
    "    [print(line) for line in new_qasm.splitlines()]\n",
    "    print()"
   ]
  },
  {
   "cell_type": "code",
   "execution_count": 497,
   "metadata": {
    "scrolled": true
   },
   "outputs": [
    {
     "name": "stdout",
     "output_type": "stream",
     "text": [
      "OPENQASM 2.0;\n",
      "include \"qelib1.inc\";\n",
      "qreg qr[2];\n",
      "creg cr[2];\n",
      "\n",
      "h qr[0];\n",
      "z qr[0];\n",
      "rz(0.5*pi) qr[1];\n",
      "cx qr[0], qr[1];\n",
      "x qr[1];\n",
      "barrier qr[0],qr[1];\n",
      "\n",
      "cx qr[1], qr[0];\n",
      "h qr[1];\n",
      "rz(0.5*pi) qr[0];\n",
      "x qr[0];\n",
      "x qr[1];\n",
      "measure qr[0] -> cr[0];\n",
      "measure qr[1] -> cr[1];\n"
     ]
    }
   ],
   "source": [
    "#now we need to map registers and glue all the pieces back together\n",
    "for i in range(len(pyzx_qasm)):\n",
    "    circ_list[whichpyzx[i]] = pyzx_qasm[i]\n",
    "#print(circ_list)\n",
    "## join the\n",
    "qasm_string = 'OPENQASM 2.0;\\ninclude \"qelib1.inc\";\\n'+\"\\n\".join(circ_list)\n",
    "qasm_string = qasm_string.replace('q[', 'qr[')\n",
    "print(qasm_string)"
   ]
  },
  {
   "cell_type": "code",
   "execution_count": null,
   "metadata": {},
   "outputs": [],
   "source": []
  },
  {
   "cell_type": "code",
   "execution_count": 498,
   "metadata": {
    "scrolled": true
   },
   "outputs": [],
   "source": [
    "# pqsl = [line + \"\\n\" for line in pyzx_qasm] #took out .splitlines()\n",
    "# qsl = [line + \"\\n\" for line in qasm.splitlines()]\n",
    "# # print(pqsl)\n",
    "# # print(qsl)\n",
    "# new_qasm = '\\n'.join(qsl[0:4]) + ''.join(pqsl[3:]) + ''.join(qsl[-2:])\n",
    "# new_qasm = new_qasm.replace('q[', 'qr[')\n",
    "# print(new_qasm)"
   ]
  },
  {
   "cell_type": "code",
   "execution_count": 499,
   "metadata": {},
   "outputs": [
    {
     "name": "stdout",
     "output_type": "stream",
     "text": [
      "             ┌───┐     ┌───┐           ░ ┌───┐┌────────────┐┌───┐┌─┐   \n",
      "qr_0: |0>────┤ H ├─────┤ Z ├──■────────░─┤ X ├┤ Rz(0.5*pi) ├┤ X ├┤M├───\n",
      "         ┌───┴───┴────┐└───┘┌─┴─┐┌───┐ ░ └─┬─┘└───┬───┬────┘├───┤└╥┘┌─┐\n",
      "qr_1: |0>┤ Rz(0.5*pi) ├─────┤ X ├┤ X ├─░───■──────┤ H ├─────┤ X ├─╫─┤M├\n",
      "         └────────────┘     └───┘└───┘ ░          └───┘     └───┘ ║ └╥┘\n",
      " cr_0: 0 ═════════════════════════════════════════════════════════╩══╬═\n",
      "                                                                     ║ \n",
      " cr_1: 0 ════════════════════════════════════════════════════════════╩═\n",
      "                                                                       \n"
     ]
    }
   ],
   "source": [
    "new_qc = qc.from_qasm_str(qasm_string)\n",
    "print(new_qc)"
   ]
  },
  {
   "cell_type": "code",
   "execution_count": 500,
   "metadata": {},
   "outputs": [
    {
     "name": "stdout",
     "output_type": "stream",
     "text": [
      "         ┌───┐┌─────┐┌───┐     ┌───┐┌─────┐┌───┐┌───┐ ░ ┌───┐ ┌───┐ ┌───┐┌───┐»\n",
      "qr_0: |0>┤ H ├┤ Sdg ├┤ H ├──■──┤ X ├┤ Sdg ├┤ H ├┤ X ├─░─┤ X ├─┤ H ├─┤ S ├┤ X ├»\n",
      "         ├───┤├─────┤├───┤┌─┴─┐└─┬─┘└┬───┬┘├───┤├───┤ ░ ├───┤┌┴───┴┐├───┤└─┬─┘»\n",
      "qr_1: |0>┤ H ├┤ Sdg ├┤ H ├┤ X ├──■───┤ H ├─┤ S ├┤ Z ├─░─┤ Z ├┤ Sdg ├┤ H ├──■──»\n",
      "         └───┘└─────┘└───┘└───┘      └───┘ └───┘└───┘ ░ └───┘└─────┘└───┘     »\n",
      " cr_0: 0 ═════════════════════════════════════════════════════════════════════»\n",
      "                                                                              »\n",
      " cr_1: 0 ═════════════════════════════════════════════════════════════════════»\n",
      "                                                                              »\n",
      "«           ┌───┐┌───┐┌───┐┌─┐   \n",
      "«qr_0: ──■──┤ H ├┤ S ├┤ H ├┤M├───\n",
      "«      ┌─┴─┐├───┤├───┤├───┤└╥┘┌─┐\n",
      "«qr_1: ┤ X ├┤ H ├┤ S ├┤ H ├─╫─┤M├\n",
      "«      └───┘└───┘└───┘└───┘ ║ └╥┘\n",
      "«cr_0: ═════════════════════╩══╬═\n",
      "«                              ║ \n",
      "«cr_1: ════════════════════════╩═\n",
      "«                                \n"
     ]
    }
   ],
   "source": [
    "print(qc)"
   ]
  },
  {
   "cell_type": "code",
   "execution_count": 501,
   "metadata": {},
   "outputs": [],
   "source": [
    "import qiskit\n",
    "from qiskit.providers.basicaer import QasmSimulatorPy\n",
    "c1 = qiskit.execute(qc, QasmSimulatorPy()).result().get_counts()\n",
    "c2 = qiskit.execute(new_qc, QasmSimulatorPy()).result().get_counts()"
   ]
  },
  {
   "cell_type": "code",
   "execution_count": 502,
   "metadata": {},
   "outputs": [
    {
     "data": {
      "text/plain": [
       "{'00': 1024}"
      ]
     },
     "execution_count": 502,
     "metadata": {},
     "output_type": "execute_result"
    }
   ],
   "source": [
    "c1"
   ]
  },
  {
   "cell_type": "code",
   "execution_count": 503,
   "metadata": {},
   "outputs": [
    {
     "data": {
      "text/plain": [
       "{'00': 1024}"
      ]
     },
     "execution_count": 503,
     "metadata": {},
     "output_type": "execute_result"
    }
   ],
   "source": [
    "c2"
   ]
  },
  {
   "cell_type": "code",
   "execution_count": 504,
   "metadata": {},
   "outputs": [
    {
     "data": {
      "text/plain": [
       "17"
      ]
     },
     "execution_count": 504,
     "metadata": {},
     "output_type": "execute_result"
    }
   ],
   "source": [
    "qc.depth()"
   ]
  },
  {
   "cell_type": "code",
   "execution_count": 505,
   "metadata": {},
   "outputs": [
    {
     "data": {
      "text/plain": [
       "30"
      ]
     },
     "execution_count": 505,
     "metadata": {},
     "output_type": "execute_result"
    }
   ],
   "source": [
    "qc.size()"
   ]
  },
  {
   "cell_type": "code",
   "execution_count": 506,
   "metadata": {},
   "outputs": [
    {
     "data": {
      "text/plain": [
       "8"
      ]
     },
     "execution_count": 506,
     "metadata": {},
     "output_type": "execute_result"
    }
   ],
   "source": [
    "new_qc.depth()"
   ]
  },
  {
   "cell_type": "code",
   "execution_count": 507,
   "metadata": {},
   "outputs": [
    {
     "data": {
      "text/plain": [
       "12"
      ]
     },
     "execution_count": 507,
     "metadata": {},
     "output_type": "execute_result"
    }
   ],
   "source": [
    "new_qc.size()"
   ]
  },
  {
   "cell_type": "code",
   "execution_count": 525,
   "metadata": {},
   "outputs": [],
   "source": [
    "new_new_qc = qiskit.transpile(qc, basis_gates=['u3', 'cx'], optimization_level=2)"
   ]
  },
  {
   "cell_type": "code",
   "execution_count": 526,
   "metadata": {},
   "outputs": [
    {
     "name": "stdout",
     "output_type": "stream",
     "text": [
      "         ┌─────────────────────┐     ┌───┐ ┌──────────────────┐ ░ »\n",
      "qr_0: |0>┤ U3(pi/2,pi/2,3pi/2) ├──■──┤ X ├─┤ U3(pi/2,0,3pi/2) ├─░─»\n",
      "         ├─────────────────────┤┌─┴─┐└─┬─┘┌┴──────────────────┤ ░ »\n",
      "qr_1: |0>┤ U3(pi/2,pi/2,3pi/2) ├┤ X ├──■──┤ U3(pi/2,-pi/2,pi) ├─░─»\n",
      "         └─────────────────────┘└───┘     └───────────────────┘ ░ »\n",
      " cr_0: 0 ═════════════════════════════════════════════════════════»\n",
      "                                                                  »\n",
      " cr_1: 0 ═════════════════════════════════════════════════════════»\n",
      "                                                                  »\n",
      "«      ┌───────────────────┐┌───┐     ┌─────────────────────┐┌─┐   \n",
      "«qr_0: ┤ U3(pi/2,-pi/2,pi) ├┤ X ├──■──┤ U3(pi/2,-pi/2,pi/2) ├┤M├───\n",
      "«      └──┬─────────────┬──┘└─┬─┘┌─┴─┐├─────────────────────┤└╥┘┌─┐\n",
      "«qr_1: ───┤ U2(0,3pi/2) ├─────■──┤ X ├┤ U3(pi/2,-pi/2,pi/2) ├─╫─┤M├\n",
      "«         └─────────────┘        └───┘└─────────────────────┘ ║ └╥┘\n",
      "«cr_0: ═══════════════════════════════════════════════════════╩══╬═\n",
      "«                                                                ║ \n",
      "«cr_1: ══════════════════════════════════════════════════════════╩═\n",
      "«                                                                  \n"
     ]
    }
   ],
   "source": [
    "print(new_new_qc)"
   ]
  },
  {
   "cell_type": "code",
   "execution_count": 527,
   "metadata": {},
   "outputs": [
    {
     "data": {
      "text/plain": [
       "9"
      ]
     },
     "execution_count": 527,
     "metadata": {},
     "output_type": "execute_result"
    }
   ],
   "source": [
    "new_new_qc.depth()"
   ]
  },
  {
   "cell_type": "code",
   "execution_count": 518,
   "metadata": {},
   "outputs": [
    {
     "data": {
      "text/plain": [
       "14"
      ]
     },
     "execution_count": 518,
     "metadata": {},
     "output_type": "execute_result"
    }
   ],
   "source": [
    "new_new_qc.size()"
   ]
  },
  {
   "cell_type": "code",
   "execution_count": 512,
   "metadata": {},
   "outputs": [
    {
     "name": "stdout",
     "output_type": "stream",
     "text": [
      "         ┌────────────────┐                     ░ ┌───┐┌────────────────┐┌─┐   \n",
      "qr_0: |0>┤ U3(pi/2,pi,pi) ├──■──────────────────░─┤ X ├┤ U3(pi,0,3pi/2) ├┤M├───\n",
      "         └──┬──────────┬──┘┌─┴─┐┌─────────────┐ ░ └─┬─┘├────────────────┤└╥┘┌─┐\n",
      "qr_1: |0>───┤ U1(pi/2) ├───┤ X ├┤ U3(pi,0,pi) ├─░───■──┤ U3(pi/2,0,2pi) ├─╫─┤M├\n",
      "            └──────────┘   └───┘└─────────────┘ ░      └────────────────┘ ║ └╥┘\n",
      " cr_0: 0 ═════════════════════════════════════════════════════════════════╩══╬═\n",
      "                                                                             ║ \n",
      " cr_1: 0 ════════════════════════════════════════════════════════════════════╩═\n",
      "                                                                               \n"
     ]
    }
   ],
   "source": [
    "doubly_qc = qiskit.transpile(new_qc, basis_gates=['u3', 'cx'], optimization_level=2)\n",
    "print(doubly_qc)"
   ]
  },
  {
   "cell_type": "code",
   "execution_count": 513,
   "metadata": {},
   "outputs": [
    {
     "data": {
      "text/plain": [
       "6"
      ]
     },
     "execution_count": 513,
     "metadata": {},
     "output_type": "execute_result"
    }
   ],
   "source": [
    "doubly_qc.depth()"
   ]
  },
  {
   "cell_type": "code",
   "execution_count": 514,
   "metadata": {},
   "outputs": [
    {
     "data": {
      "text/plain": [
       "9"
      ]
     },
     "execution_count": 514,
     "metadata": {},
     "output_type": "execute_result"
    }
   ],
   "source": [
    "doubly_qc.size()"
   ]
  },
  {
   "cell_type": "code",
   "execution_count": 529,
   "metadata": {},
   "outputs": [
    {
     "data": {
      "text/plain": [
       "{'00': 1024}"
      ]
     },
     "execution_count": 529,
     "metadata": {},
     "output_type": "execute_result"
    }
   ],
   "source": [
    "c3 = qiskit.execute(new_new_qc, QasmSimulatorPy()).result().get_counts()\n",
    "c4 = qiskit.execute(doubly_qc, QasmSimulatorPy()).result().get_counts()\n",
    "c3"
   ]
  },
  {
   "cell_type": "code",
   "execution_count": 530,
   "metadata": {},
   "outputs": [
    {
     "data": {
      "text/plain": [
       "{'00': 1024}"
      ]
     },
     "execution_count": 530,
     "metadata": {},
     "output_type": "execute_result"
    }
   ],
   "source": [
    "c4"
   ]
  },
  {
   "cell_type": "code",
   "execution_count": null,
   "metadata": {},
   "outputs": [],
   "source": []
  }
 ],
 "metadata": {
  "kernelspec": {
   "display_name": "Python 3",
   "language": "python",
   "name": "python3"
  },
  "language_info": {
   "codemirror_mode": {
    "name": "ipython",
    "version": 3
   },
   "file_extension": ".py",
   "mimetype": "text/x-python",
   "name": "python",
   "nbconvert_exporter": "python",
   "pygments_lexer": "ipython3",
   "version": "3.7.3"
  }
 },
 "nbformat": 4,
 "nbformat_minor": 2
}
