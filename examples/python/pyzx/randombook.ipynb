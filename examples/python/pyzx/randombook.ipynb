{
 "cells": [
  {
   "cell_type": "code",
   "execution_count": 1,
   "metadata": {},
   "outputs": [],
   "source": [
    "from qiskit import QuantumCircuit, QiskitError\n",
    "#from qiskit import execute, BasicAer\n",
    "import qiskit.ignis.verification.randomized_benchmarking as rb\n",
    "#import qiskit.test.benchmarks.randomized_benchmarking as br\n",
    "import pyzx\n",
    "from pyzx.circuit.qasmparser import QASMParser\n",
    "from pyzx.circuit.qiskitqasmparser import QiskitQASMParser"
   ]
  },
  {
   "cell_type": "code",
   "execution_count": 2,
   "metadata": {},
   "outputs": [
    {
     "data": {
      "text/plain": [
       "qiskit.circuit.quantumcircuit.QuantumCircuit"
      ]
     },
     "execution_count": 2,
     "metadata": {},
     "output_type": "execute_result"
    }
   ],
   "source": [
    "#qc = rb.randomized_benchmarking_seq()\n",
    "qc = rb.randomized_benchmarking_seq(nseeds=1, length_vector=None,\n",
    "                                rb_pattern=[[0,1]],\n",
    "                                length_multiplier=1, seed_offset=0,\n",
    "                                align_cliffs=False,\n",
    "                                interleaved_gates=None,\n",
    "                                is_purity=False)\n",
    "qc = qc[0][0][0]\n",
    "type(qc)"
   ]
  },
  {
   "cell_type": "code",
   "execution_count": null,
   "metadata": {},
   "outputs": [],
   "source": [
    "# setting up the backend\n",
    "# print(BasicAer.backends())\n",
    "\n",
    "# running the job\n",
    "# job_sim = execute(qc, BasicAer.get_backend('qasm_simulator'))\n",
    "# sim_result = job_sim.result()"
   ]
  },
  {
   "cell_type": "code",
   "execution_count": null,
   "metadata": {
    "scrolled": true
   },
   "outputs": [],
   "source": [
    "# print(\"\\nPrint all gates:\")\n",
    "# [print(dat) for dat in qc.data]"
   ]
  },
  {
   "cell_type": "code",
   "execution_count": 3,
   "metadata": {
    "scrolled": false
   },
   "outputs": [
    {
     "name": "stdout",
     "output_type": "stream",
     "text": [
      "\n",
      "Print QASM:\n",
      "OPENQASM 2.0;\n",
      "include \"qelib1.inc\";\n",
      "qreg qr[2];\n",
      "creg cr[2];\n",
      "h qr[1];\n",
      "h qr[0];\n",
      "s qr[0];\n",
      "cx qr[0],qr[1];\n",
      "h qr[0];\n",
      "s qr[0];\n",
      "z qr[0];\n",
      "barrier qr[0],qr[1];\n",
      "z qr[0];\n",
      "sdg qr[0];\n",
      "h qr[0];\n",
      "cx qr[0],qr[1];\n",
      "sdg qr[0];\n",
      "h qr[0];\n",
      "h qr[1];\n",
      "measure qr[0] -> cr[0];\n",
      "measure qr[1] -> cr[1];\n",
      "\n"
     ]
    }
   ],
   "source": [
    "qasm = qc.qasm()\n",
    "#qasm = '\\n'.join(['' if line.startswith(\"barrier\") else line for line in qasm.splitlines()])\n",
    "\n",
    "print(\"\\nPrint QASM:\")\n",
    "print(qasm)\n",
    "\n"
   ]
  },
  {
   "cell_type": "code",
   "execution_count": 4,
   "metadata": {},
   "outputs": [
    {
     "name": "stdout",
     "output_type": "stream",
     "text": [
      "         ┌───┐┌───┐     ┌───┐┌───┐┌───┐ ░ ┌───┐┌─────┐┌───┐     ┌─────┐┌───┐┌─┐\n",
      "qr_0: |0>┤ H ├┤ S ├──■──┤ H ├┤ S ├┤ Z ├─░─┤ Z ├┤ Sdg ├┤ H ├──■──┤ Sdg ├┤ H ├┤M├\n",
      "         ├───┤└───┘┌─┴─┐└───┘└───┘└───┘ ░ └───┘└─────┘└───┘┌─┴─┐└┬───┬┘└┬─┬┘└╥┘\n",
      "qr_1: |0>┤ H ├─────┤ X ├────────────────░──────────────────┤ X ├─┤ H ├──┤M├──╫─\n",
      "         └───┘     └───┘                ░                  └───┘ └───┘  └╥┘  ║ \n",
      " cr_0: 0 ════════════════════════════════════════════════════════════════╬═══╩═\n",
      "                                                                         ║     \n",
      " cr_1: 0 ════════════════════════════════════════════════════════════════╩═════\n",
      "                                                                               \n"
     ]
    }
   ],
   "source": [
    "# Draw the circuit\n",
    "print(qc)"
   ]
  },
  {
   "cell_type": "code",
   "execution_count": 5,
   "metadata": {},
   "outputs": [
    {
     "name": "stdout",
     "output_type": "stream",
     "text": [
      "['qreg qr[2];', 'creg cr[2];', Circuit(2 qubits, 7 gates), 'barrier qr[0],qr[1];', Circuit(2 qubits, 7 gates), 'measure qr[0] -> cr[0];', 'measure qr[1] -> cr[1];']\n",
      "[2, 4]\n",
      "{'qr': (0, 2)}\n"
     ]
    }
   ],
   "source": [
    "p = QiskitQASMParser()\n",
    "circ_list, whichpyzx = p.qiskitparse(qasm)\n",
    "print(circ_list)\n",
    "print(whichpyzx)\n",
    "print(p.registers)"
   ]
  },
  {
   "cell_type": "code",
   "execution_count": 6,
   "metadata": {
    "scrolled": false
   },
   "outputs": [
    {
     "data": {
      "image/png": "[encoded data removed]",
      "text/plain": [
       "<Figure size 432x288 with 2 Axes>"
      ]
     },
     "execution_count": 6,
     "metadata": {},
     "output_type": "execute_result"
    }
   ],
   "source": [
    "#qasm = qc.decompose().qasm()\n",
    "pyzx.draw_many(circ_list, whichpyzx)\n",
    "\n",
    "\n",
    "#print(circ_list)\n",
    "#print(len(circ_list))\n",
    "#print(whichpyzx)\n",
    "# whichplt = 0\n",
    "# for i in range(len(circ_list)):\n",
    "#     if isinstance(circ_list[i], str):\n",
    "#         pass\n",
    "#     else:\n",
    "#         circ_list[i].name = \"pyzx_\" + qc.name + \"_\" + str(i)\n",
    "#         plt.axes(axs[whichplt])\n",
    "#         fig = pyzx.draw(circ_list[i])\n",
    "#         break\n",
    "#plt.show()\n",
    "#c.name = \"pyzx_\" + qc.name\n",
    "#pyzx.draw(c)\n",
    "#pyzx.draw(c.to_graph(), layout=None, labels=False, figsize=(16,4), h_edge_draw='blue', rows=None)"
   ]
  },
  {
   "cell_type": "code",
   "execution_count": 15,
   "metadata": {},
   "outputs": [
    {
     "data": {
      "image/png": "[encoded data removed]",
      "text/plain": [
       "<Figure size 432x288 with 2 Axes>"
      ]
     },
     "execution_count": 15,
     "metadata": {},
     "output_type": "execute_result"
    }
   ],
   "source": [
    "graph_list = [circ_list[w].to_graph() for w in whichpyzx]\n",
    "[pyzx.full_reduce(g) for g in graph_list]\n",
    "pyzx.draw_many(graph_list, range(len(whichpyzx)))"
   ]
  },
  {
   "cell_type": "code",
   "execution_count": 16,
   "metadata": {},
   "outputs": [],
   "source": [
    "# pyzx.draw(graph_list[1])\n",
    "# new_c = pyzx.extract.streaming_extract(graph_list[1])\n",
    "# print(new_c.to_basic_gates().to_qasm())\n",
    "\n",
    "pyzx_circ_list = [pyzx.extract.streaming_extract(g) for g in graph_list]\n",
    "pyzx_circ_list = [pyzx.optimize.basic_optimization(new_c.to_basic_gates()) for new_c in pyzx_circ_list]\n",
    "\n",
    "##new_c = c.from_graph(g)\n",
    "pyzx_qasm = [new_c.to_basic_gates().to_qasm() for new_c in pyzx_circ_list]\n",
    "\n",
    "#pyzx_qasm = [\"\\n\".join(circ.splitlines()[2:]) for circ in pyzx_qasm]\n",
    "pyzx_qasm = [\"\\n\".join(['' if line.startswith(\"qreg\") else line for line in circ.splitlines()[2:]]) for circ in pyzx_qasm]\n",
    "\n"
   ]
  },
  {
   "cell_type": "code",
   "execution_count": 17,
   "metadata": {},
   "outputs": [
    {
     "name": "stdout",
     "output_type": "stream",
     "text": [
      "\n",
      "cx q[1], q[0];\n",
      "h q[1];\n",
      "rz(1.5*pi) q[0];\n",
      "h q[0];\n",
      "z q[0];\n",
      "\n",
      "\n",
      "h q[0];\n",
      "rz(1.5*pi) q[0];\n",
      "h q[1];\n",
      "cx q[1], q[0];\n",
      "x q[0];\n",
      "\n"
     ]
    }
   ],
   "source": [
    "##pyzx_qasm = [string.replace(';', '') for string in pyzx_qasm]\n",
    "for new_qasm in pyzx_qasm:\n",
    "    [print(line) for line in new_qasm.splitlines()]\n",
    "    print()"
   ]
  },
  {
   "cell_type": "code",
   "execution_count": 46,
   "metadata": {
    "scrolled": true
   },
   "outputs": [
    {
     "name": "stdout",
     "output_type": "stream",
     "text": [
      "OPENQASM 2.0;\n",
      "include \"qelib1.inc\";\n",
      "qreg qr[2];\n",
      "creg cr[2];\n",
      "\n",
      "cx q[1], q[0];\n",
      "h q[1];\n",
      "rz(1.5*pi) q[0];\n",
      "h q[0];\n",
      "z q[0];\n",
      "barrier qr[0],qr[1];\n",
      "\n",
      "h q[0];\n",
      "rz(1.5*pi) q[0];\n",
      "h q[1];\n",
      "cx q[1], q[0];\n",
      "x q[0];\n",
      "measure qr[0] -> cr[0];\n",
      "measure qr[1] -> cr[1];\n"
     ]
    }
   ],
   "source": [
    "#now we need to map registers and glue all the pieces back together\n",
    "for i in range(len(pyzx_qasm)):\n",
    "    circ_list[whichpyzx[i]] = pyzx_qasm[i]\n",
    "#print(circ_list)\n",
    "## join the\n",
    "qasm_string = 'OPENQASM 2.0;\\ninclude \"qelib1.inc\";\\n'+\"\\n\".join(circ_list)\n",
    "qasm_string = qasm_string.replace('q[', 'qr[')\n",
    "print(qasm_string)"
   ]
  },
  {
   "cell_type": "code",
   "execution_count": null,
   "metadata": {},
   "outputs": [],
   "source": []
  },
  {
   "cell_type": "code",
   "execution_count": null,
   "metadata": {
    "scrolled": true
   },
   "outputs": [],
   "source": [
    "# pqsl = [line + \"\\n\" for line in pyzx_qasm] #took out .splitlines()\n",
    "# qsl = [line + \"\\n\" for line in qasm.splitlines()]\n",
    "# # print(pqsl)\n",
    "# # print(qsl)\n",
    "# new_qasm = '\\n'.join(qsl[0:4]) + ''.join(pqsl[3:]) + ''.join(qsl[-2:])\n",
    "# new_qasm = new_qasm.replace('q[', 'qr[')\n",
    "# print(new_qasm)"
   ]
  },
  {
   "cell_type": "code",
   "execution_count": 19,
   "metadata": {},
   "outputs": [
    {
     "name": "stdout",
     "output_type": "stream",
     "text": [
      "         ┌───┐┌────────────┐┌───┐┌───┐ ░ ┌───┐┌────────────┐┌───┐┌───┐┌─┐\n",
      "qr_0: |0>┤ X ├┤ Rz(1.5*pi) ├┤ H ├┤ Z ├─░─┤ H ├┤ Rz(1.5*pi) ├┤ X ├┤ X ├┤M├\n",
      "         └─┬─┘└───┬───┬────┘└───┘└───┘ ░ ├───┤└────────────┘└─┬─┘└┬─┬┘└╥┘\n",
      "qr_1: |0>──■──────┤ H ├────────────────░─┤ H ├────────────────■───┤M├──╫─\n",
      "                  └───┘                ░ └───┘                    └╥┘  ║ \n",
      " cr_0: 0 ══════════════════════════════════════════════════════════╬═══╩═\n",
      "                                                                   ║     \n",
      " cr_1: 0 ══════════════════════════════════════════════════════════╩═════\n",
      "                                                                         \n"
     ]
    }
   ],
   "source": [
    "new_qc = qc.from_qasm_str(qasm_string)\n",
    "print(new_qc)"
   ]
  },
  {
   "cell_type": "code",
   "execution_count": 20,
   "metadata": {},
   "outputs": [
    {
     "name": "stdout",
     "output_type": "stream",
     "text": [
      "         ┌───┐┌───┐     ┌───┐┌───┐┌───┐ ░ ┌───┐┌─────┐┌───┐     ┌─────┐┌───┐┌─┐\n",
      "qr_0: |0>┤ H ├┤ S ├──■──┤ H ├┤ S ├┤ Z ├─░─┤ Z ├┤ Sdg ├┤ H ├──■──┤ Sdg ├┤ H ├┤M├\n",
      "         ├───┤└───┘┌─┴─┐└───┘└───┘└───┘ ░ └───┘└─────┘└───┘┌─┴─┐└┬───┬┘└┬─┬┘└╥┘\n",
      "qr_1: |0>┤ H ├─────┤ X ├────────────────░──────────────────┤ X ├─┤ H ├──┤M├──╫─\n",
      "         └───┘     └───┘                ░                  └───┘ └───┘  └╥┘  ║ \n",
      " cr_0: 0 ════════════════════════════════════════════════════════════════╬═══╩═\n",
      "                                                                         ║     \n",
      " cr_1: 0 ════════════════════════════════════════════════════════════════╩═════\n",
      "                                                                               \n"
     ]
    }
   ],
   "source": [
    "print(qc)"
   ]
  },
  {
   "cell_type": "code",
   "execution_count": 22,
   "metadata": {},
   "outputs": [],
   "source": [
    "import qiskit\n",
    "from qiskit.providers.basicaer import QasmSimulatorPy\n",
    "c1 = qiskit.execute(qc, QasmSimulatorPy()).result().get_counts()\n",
    "c2 = qiskit.execute(new_qc, QasmSimulatorPy()).result().get_counts()"
   ]
  },
  {
   "cell_type": "code",
   "execution_count": 23,
   "metadata": {},
   "outputs": [
    {
     "data": {
      "text/plain": [
       "{'00': 1024}"
      ]
     },
     "execution_count": 23,
     "metadata": {},
     "output_type": "execute_result"
    }
   ],
   "source": [
    "c1"
   ]
  },
  {
   "cell_type": "code",
   "execution_count": 24,
   "metadata": {},
   "outputs": [
    {
     "data": {
      "text/plain": [
       "{'00': 1024}"
      ]
     },
     "execution_count": 24,
     "metadata": {},
     "output_type": "execute_result"
    }
   ],
   "source": [
    "c2"
   ]
  },
  {
   "cell_type": "code",
   "execution_count": 25,
   "metadata": {},
   "outputs": [
    {
     "data": {
      "text/plain": [
       "13"
      ]
     },
     "execution_count": 25,
     "metadata": {},
     "output_type": "execute_result"
    }
   ],
   "source": [
    "qc.depth()"
   ]
  },
  {
   "cell_type": "code",
   "execution_count": 26,
   "metadata": {},
   "outputs": [
    {
     "data": {
      "text/plain": [
       "16"
      ]
     },
     "execution_count": 26,
     "metadata": {},
     "output_type": "execute_result"
    }
   ],
   "source": [
    "qc.size()"
   ]
  },
  {
   "cell_type": "code",
   "execution_count": 27,
   "metadata": {},
   "outputs": [
    {
     "data": {
      "text/plain": [
       "9"
      ]
     },
     "execution_count": 27,
     "metadata": {},
     "output_type": "execute_result"
    }
   ],
   "source": [
    "new_qc.depth()"
   ]
  },
  {
   "cell_type": "code",
   "execution_count": 28,
   "metadata": {},
   "outputs": [
    {
     "data": {
      "text/plain": [
       "12"
      ]
     },
     "execution_count": 28,
     "metadata": {},
     "output_type": "execute_result"
    }
   ],
   "source": [
    "new_qc.size()"
   ]
  },
  {
   "cell_type": "code",
   "execution_count": 44,
   "metadata": {},
   "outputs": [],
   "source": [
    "new_new_qc = qiskit.transpile(qc, basis_gates=['u3', 'cx'], optimization_level=2)"
   ]
  },
  {
   "cell_type": "code",
   "execution_count": 45,
   "metadata": {},
   "outputs": [
    {
     "name": "stdout",
     "output_type": "stream",
     "text": [
      "         ┌──────────────────┐     ┌───────────────────┐ ░ ┌─────────────┐     »\n",
      "qr_0: |0>┤ U3(pi/2,pi/2,pi) ├──■──┤ U3(pi/2,-pi/2,pi) ├─░─┤ U2(0,3pi/2) ├──■──»\n",
      "         └───┬──────────┬───┘┌─┴─┐└───────────────────┘ ░ └─────────────┘┌─┴─┐»\n",
      "qr_1: |0>────┤ U2(0,pi) ├────┤ X ├──────────────────────░────────────────┤ X ├»\n",
      "             └──────────┘    └───┘                      ░                └───┘»\n",
      " cr_0: 0 ═════════════════════════════════════════════════════════════════════»\n",
      "                                                                              »\n",
      " cr_1: 0 ═════════════════════════════════════════════════════════════════════»\n",
      "                                                                              »\n",
      "«      ┌────────────┐┌─┐   \n",
      "«qr_0: ┤ U2(0,pi/2) ├┤M├───\n",
      "«      └┬──────────┬┘└╥┘┌─┐\n",
      "«qr_1: ─┤ U2(0,pi) ├──╫─┤M├\n",
      "«       └──────────┘  ║ └╥┘\n",
      "«cr_0: ═══════════════╩══╬═\n",
      "«                        ║ \n",
      "«cr_1: ══════════════════╩═\n",
      "«                          \n"
     ]
    }
   ],
   "source": [
    "print(new_new_qc)"
   ]
  },
  {
   "cell_type": "code",
   "execution_count": 40,
   "metadata": {},
   "outputs": [
    {
     "data": {
      "text/plain": [
       "7"
      ]
     },
     "execution_count": 40,
     "metadata": {},
     "output_type": "execute_result"
    }
   ],
   "source": [
    "new_new_qc.depth()"
   ]
  },
  {
   "cell_type": "code",
   "execution_count": 34,
   "metadata": {},
   "outputs": [
    {
     "data": {
      "text/plain": [
       "10"
      ]
     },
     "execution_count": 34,
     "metadata": {},
     "output_type": "execute_result"
    }
   ],
   "source": [
    "new_new_qc.size()"
   ]
  },
  {
   "cell_type": "code",
   "execution_count": 35,
   "metadata": {},
   "outputs": [
    {
     "name": "stdout",
     "output_type": "stream",
     "text": [
      "         ┌───┐┌───────────────────┐ ░ ┌───────────────────┐┌───┐┌─────────────┐»\n",
      "qr_0: |0>┤ X ├┤ U3(pi/2,pi,5pi/2) ├─░─┤ U3(pi/2,-pi/2,pi) ├┤ X ├┤ U3(pi,0,pi) ├»\n",
      "         └─┬─┘└────┬──────────┬───┘ ░ └────┬──────────┬───┘└─┬─┘└─────┬─┬─────┘»\n",
      "qr_1: |0>──■───────┤ U2(0,pi) ├─────░──────┤ U2(0,pi) ├──────■────────┤M├──────»\n",
      "                   └──────────┘     ░      └──────────┘               └╥┘      »\n",
      " cr_0: 0 ══════════════════════════════════════════════════════════════╬═══════»\n",
      "                                                                       ║       »\n",
      " cr_1: 0 ══════════════════════════════════════════════════════════════╩═══════»\n",
      "                                                                               »\n",
      "«      ┌─┐\n",
      "«qr_0: ┤M├\n",
      "«      └╥┘\n",
      "«qr_1: ─╫─\n",
      "«       ║ \n",
      "«cr_0: ═╩═\n",
      "«         \n",
      "«cr_1: ═══\n",
      "«         \n"
     ]
    }
   ],
   "source": [
    "doubly_qc = qiskit.transpile(new_qc, basis_gates=['u3', 'cx'], optimization_level=2)\n",
    "print(doubly_qc)"
   ]
  },
  {
   "cell_type": "code",
   "execution_count": 36,
   "metadata": {},
   "outputs": [
    {
     "data": {
      "text/plain": [
       "6"
      ]
     },
     "execution_count": 36,
     "metadata": {},
     "output_type": "execute_result"
    }
   ],
   "source": [
    "doubly_qc.depth()"
   ]
  },
  {
   "cell_type": "code",
   "execution_count": 37,
   "metadata": {},
   "outputs": [
    {
     "data": {
      "text/plain": [
       "9"
      ]
     },
     "execution_count": 37,
     "metadata": {},
     "output_type": "execute_result"
    }
   ],
   "source": [
    "doubly_qc.size()"
   ]
  },
  {
   "cell_type": "code",
   "execution_count": null,
   "metadata": {},
   "outputs": [],
   "source": []
  }
 ],
 "metadata": {
  "kernelspec": {
   "display_name": "Python 3",
   "language": "python",
   "name": "python3"
  },
  "language_info": {
   "codemirror_mode": {
    "name": "ipython",
    "version": 3
   },
   "file_extension": ".py",
   "mimetype": "text/x-python",
   "name": "python",
   "nbconvert_exporter": "python",
   "pygments_lexer": "ipython3",
   "version": "3.7.3"
  }
 },
 "nbformat": 4,
 "nbformat_minor": 2
}
