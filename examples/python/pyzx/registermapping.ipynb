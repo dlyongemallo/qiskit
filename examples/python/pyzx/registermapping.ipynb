{
 "cells": [
  {
   "cell_type": "code",
   "execution_count": 86,
   "metadata": {},
   "outputs": [],
   "source": [
    "from qiskit import QuantumCircuit, QuantumRegister, ClassicalRegister, QiskitError\n",
    "#from qiskit import execute, BasicAer\n",
    "import qiskit.ignis.verification.randomized_benchmarking as rb\n",
    "#import qiskit.test.benchmarks.randomized_benchmarking as br\n",
    "import pyzx\n",
    "from pyzx.circuit.qasmparser import QASMParser\n",
    "from pyzx.circuit.qiskitqasmparser import QiskitQASMParser"
   ]
  },
  {
   "cell_type": "code",
   "execution_count": 526,
   "metadata": {},
   "outputs": [
    {
     "data": {
      "text/plain": [
       "<qiskit.circuit.instructionset.InstructionSet at 0x12c234438>"
      ]
     },
     "execution_count": 526,
     "metadata": {},
     "output_type": "execute_result"
    }
   ],
   "source": [
    "#qc = rb.randomized_benchmarking_seq()\n",
    "# qc = rb.randomized_benchmarking_seq(nseeds=1, length_vector=None,\n",
    "#                                 rb_pattern=[[0,1]],\n",
    "#                                 length_multiplier=1, seed_offset=0,\n",
    "#                                 align_cliffs=False,\n",
    "#                                 interleaved_gates=None,\n",
    "#                                 is_purity=False)\n",
    "# qc = qc[0][0][0]\n",
    "\n",
    "qr0 = QuantumRegister(3, 'qr0')\n",
    "qr1 = QuantumRegister(2, 'qr1')\n",
    "qr2 = QuantumRegister(1, 'qr2')\n",
    "qr3 = QuantumRegister(6, 'qr3')\n",
    "cr0 = ClassicalRegister(2, 'cr0')\n",
    "cr1 = ClassicalRegister(3, 'cr1')\n",
    "qc = QuantumCircuit(qr3, qr1, qr0, qr2, cr0, cr1)\n",
    "qc.x(8)\n",
    "qc.h(2)\n",
    "qc.cx(4,5)\n"
   ]
  },
  {
   "cell_type": "code",
   "execution_count": 527,
   "metadata": {},
   "outputs": [],
   "source": [
    "# setting up the backend\n",
    "# print(BasicAer.backends())\n",
    "\n",
    "# running the job\n",
    "# job_sim = execute(qc, BasicAer.get_backend('qasm_simulator'))\n",
    "# sim_result = job_sim.result()"
   ]
  },
  {
   "cell_type": "code",
   "execution_count": 528,
   "metadata": {
    "scrolled": true
   },
   "outputs": [],
   "source": [
    "# print(\"\\nPrint all gates:\")\n",
    "# [print(dat) for dat in qc.data]"
   ]
  },
  {
   "cell_type": "code",
   "execution_count": 529,
   "metadata": {
    "scrolled": false
   },
   "outputs": [
    {
     "name": "stdout",
     "output_type": "stream",
     "text": [
      "\n",
      "Print QASM:\n",
      "OPENQASM 2.0;\n",
      "include \"qelib1.inc\";\n",
      "qreg qr3[6];\n",
      "qreg qr1[2];\n",
      "qreg qr0[3];\n",
      "qreg qr2[1];\n",
      "creg cr0[2];\n",
      "creg cr1[3];\n",
      "x qr0[0];\n",
      "h qr3[2];\n",
      "cx qr3[4],qr3[5];\n",
      "\n"
     ]
    }
   ],
   "source": [
    "qasm = qc.qasm()\n",
    "#qasm = '\\n'.join(['' if line.startswith(\"barrier\") else line for line in qasm.splitlines()])\n",
    "\n",
    "print(\"\\nPrint QASM:\")\n",
    "print(qasm)\n",
    "\n"
   ]
  },
  {
   "cell_type": "code",
   "execution_count": 530,
   "metadata": {},
   "outputs": [
    {
     "name": "stdout",
     "output_type": "stream",
     "text": [
      "               \n",
      "qr3_0: |0>─────\n",
      "               \n",
      "qr3_1: |0>─────\n",
      "          ┌───┐\n",
      "qr3_2: |0>┤ H ├\n",
      "          └───┘\n",
      "qr3_3: |0>─────\n",
      "               \n",
      "qr3_4: |0>──■──\n",
      "          ┌─┴─┐\n",
      "qr3_5: |0>┤ X ├\n",
      "          └───┘\n",
      "qr1_0: |0>─────\n",
      "               \n",
      "qr1_1: |0>─────\n",
      "          ┌───┐\n",
      "qr0_0: |0>┤ X ├\n",
      "          └───┘\n",
      "qr0_1: |0>─────\n",
      "               \n",
      "qr0_2: |0>─────\n",
      "               \n",
      "qr2_0: |0>─────\n",
      "               \n",
      " cr0_0: 0 ═════\n",
      "               \n",
      " cr0_1: 0 ═════\n",
      "               \n",
      " cr1_0: 0 ═════\n",
      "               \n",
      " cr1_1: 0 ═════\n",
      "               \n",
      " cr1_2: 0 ═════\n",
      "               \n"
     ]
    }
   ],
   "source": [
    "# Draw the circuit\n",
    "print(qc)"
   ]
  },
  {
   "cell_type": "code",
   "execution_count": 531,
   "metadata": {
    "scrolled": true
   },
   "outputs": [],
   "source": [
    "p = QiskitQASMParser()\n",
    "circ_list, whichpyzx = p.qiskitparse(qasm)\n",
    "# print(circ_list)\n",
    "# print(whichpyzx)\n",
    "\n",
    "# from numpy.random import permutation\n",
    "# perm = permutation(list(p.registers.items()))\n",
    "# print(perm)\n",
    "# print(sorted(perm, key=lambda x: x[1][0]))"
   ]
  },
  {
   "cell_type": "code",
   "execution_count": 532,
   "metadata": {
    "scrolled": false
   },
   "outputs": [
    {
     "data": {
      "image/png": "[encoded data removed]",
      "text/plain": [
       "<Figure size 576x144 with 1 Axes>"
      ]
     },
     "execution_count": 532,
     "metadata": {},
     "output_type": "execute_result"
    }
   ],
   "source": [
    "#qasm = qc.decompose().qasm()\n",
    "pyzx.draw_many(circ_list, whichpyzx)\n",
    "\n",
    "\n",
    "#print(circ_list)\n",
    "#print(len(circ_list))\n",
    "#print(whichpyzx)\n",
    "# whichplt = 0\n",
    "# for i in range(len(circ_list)):\n",
    "#     if isinstance(circ_list[i], str):\n",
    "#         pass\n",
    "#     else:\n",
    "#         circ_list[i].name = \"pyzx_\" + qc.name + \"_\" + str(i)\n",
    "#         plt.axes(axs[whichplt])\n",
    "#         fig = pyzx.draw(circ_list[i])\n",
    "#         break\n",
    "#plt.show()\n",
    "#c.name = \"pyzx_\" + qc.name\n",
    "#pyzx.draw(c)\n",
    "#pyzx.draw(c.to_graph(), layout=None, labels=False, figsize=(16,4), h_edge_draw='blue', rows=None)"
   ]
  },
  {
   "cell_type": "code",
   "execution_count": 533,
   "metadata": {},
   "outputs": [
    {
     "data": {
      "image/png": "[encoded data removed]",
      "text/plain": [
       "<Figure size 576x144 with 1 Axes>"
      ]
     },
     "execution_count": 533,
     "metadata": {},
     "output_type": "execute_result"
    }
   ],
   "source": [
    "graph_list = [circ_list[w].to_graph() for w in whichpyzx]\n",
    "[pyzx.full_reduce(g) for g in graph_list]\n",
    "\n",
    "graph_list[0].normalise()\n",
    "\n",
    "pyzx.draw_many(graph_list, range(len(whichpyzx)))"
   ]
  },
  {
   "cell_type": "code",
   "execution_count": 534,
   "metadata": {},
   "outputs": [
    {
     "name": "stdout",
     "output_type": "stream",
     "text": [
      "['OPENQASM 2.0;\\ninclude \"qelib1.inc\";\\nqreg q[12];\\nh q[2];\\ncx q[4], q[5];\\nx q[8];\\n']\n"
     ]
    }
   ],
   "source": [
    "# pyzx.draw(graph_list[1])\n",
    "# new_c = pyzx.extract.streaming_extract(graph_list[1])\n",
    "# print(new_c.to_basic_gates().to_qasm())\n",
    "\n",
    "pyzx_circ_list = [pyzx.extract.streaming_extract(g) for g in graph_list]\n",
    "\n",
    "##print([c.__dict__ for c in pyzx_circ_list])\n",
    "\n",
    "\n",
    "while(True):\n",
    "    next = [pyzx.extract.streaming_extract(g) for g in graph_list]\n",
    "    done = True\n",
    "    for i in range(len(next)):\n",
    "        if next[i].gates:\n",
    "            for gate in next[i].gates:\n",
    "                pyzx_circ_list[i].add_gate(gate)\n",
    "            done = False\n",
    "    if done:\n",
    "        break\n",
    "\n",
    "\n",
    "pyzx_circ_list = [pyzx.optimize.basic_optimization(new_c.to_basic_gates()) for new_c in pyzx_circ_list]\n",
    "\n",
    "##new_c = c.from_graph(g)\n",
    "pyzx_qasm = [new_c.to_basic_gates().to_qasm() for new_c in pyzx_circ_list]\n",
    "\n",
    "print(pyzx_qasm)\n",
    "\n",
    "#pyzx_qasm = [\"\\n\".join(circ.splitlines()[2:]) for circ in pyzx_qasm]\n",
    "pyzx_qasm = [\"\\n\".join(['' if line.startswith(\"qreg\") else line for line in circ.splitlines()[2:]]) for circ in pyzx_qasm]\n",
    "\n"
   ]
  },
  {
   "cell_type": "code",
   "execution_count": 535,
   "metadata": {},
   "outputs": [
    {
     "name": "stdout",
     "output_type": "stream",
     "text": [
      "\n",
      "h q[2];\n",
      "cx q[4], q[5];\n",
      "x q[8];\n",
      "\n"
     ]
    }
   ],
   "source": [
    "##pyzx_qasm = [string.replace(';', '') for string in pyzx_qasm]\n",
    "for new_qasm in pyzx_qasm:\n",
    "    [print(line) for line in new_qasm.splitlines()]\n",
    "    print()"
   ]
  },
  {
   "cell_type": "code",
   "execution_count": 536,
   "metadata": {
    "scrolled": true
   },
   "outputs": [
    {
     "name": "stdout",
     "output_type": "stream",
     "text": [
      "OPENQASM 2.0;\n",
      "include \"qelib1.inc\";\n",
      "qreg qr3[6];\n",
      "qreg qr1[2];\n",
      "qreg qr0[3];\n",
      "qreg qr2[1];\n",
      "creg cr0[2];\n",
      "creg cr1[3];\n",
      "\n",
      "h q[2];\n",
      "cx q[4], q[5];\n",
      "x q[8];\n"
     ]
    }
   ],
   "source": [
    "#now we need to map registers and glue all the pieces back together\n",
    "for i in range(len(pyzx_qasm)):\n",
    "    circ_list[whichpyzx[i]] = pyzx_qasm[i]\n",
    "#print(circ_list)\n",
    "## join the\n",
    "qasm_string = 'OPENQASM 2.0;\\ninclude \"qelib1.inc\";\\n'+\"\\n\".join(circ_list)\n",
    "print(qasm_string)"
   ]
  },
  {
   "cell_type": "code",
   "execution_count": 537,
   "metadata": {},
   "outputs": [
    {
     "name": "stdout",
     "output_type": "stream",
     "text": [
      "[('qr3', (0, 6)), ('qr1', (6, 2)), ('qr0', (8, 3)), ('qr2', (11, 1))]\n",
      "OPENQASM 2.0;\n",
      "include \"qelib1.inc\";\n",
      "qreg qr3[6];\n",
      "qreg qr1[2];\n",
      "qreg qr0[3];\n",
      "qreg qr2[1];\n",
      "creg cr0[2];\n",
      "creg cr1[3];\n",
      "\n",
      "h qr3[2];\n",
      "cx qr3[4], qr3[5];\n",
      "x qr0[8\n"
     ]
    }
   ],
   "source": [
    "sorted_registers = sorted(p.registers.items(), key=lambda x: x[1][0])\n",
    "print(sorted_registers)\n",
    "\n",
    "import re\n",
    "from re import finditer\n",
    "poss = [m.start() for m in re.finditer('q\\[', qasm_string)]\n",
    "registered_qasm = ''\n",
    "prev_pos = 0\n",
    "for pos in poss:\n",
    "    registered_qasm += qasm_string[prev_pos:pos]\n",
    "    prev_pos = pos+qasm_string[pos:].find(']')\n",
    "    id = qasm_string[pos+2:prev_pos]\n",
    "    leq_list = list(filter(lambda x: (x[1][0] <= int(id)), sorted_registers))\n",
    "    registered_qasm += leq_list[-1][0] + '[' + id\n",
    "print(registered_qasm)\n"
   ]
  },
  {
   "cell_type": "code",
   "execution_count": 466,
   "metadata": {
    "scrolled": true
   },
   "outputs": [],
   "source": [
    "# pqsl = [line + \"\\n\" for line in pyzx_qasm] #took out .splitlines()\n",
    "# qsl = [line + \"\\n\" for line in qasm.splitlines()]\n",
    "# # print(pqsl)\n",
    "# # print(qsl)\n",
    "# new_qasm = '\\n'.join(qsl[0:4]) + ''.join(pqsl[3:]) + ''.join(qsl[-2:])\n",
    "# new_qasm = new_qasm.replace('q[', 'qr[')\n",
    "# print(new_qasm)"
   ]
  },
  {
   "cell_type": "code",
   "execution_count": 467,
   "metadata": {},
   "outputs": [
    {
     "name": "stdout",
     "output_type": "stream",
     "text": [
      "               \n",
      "qr3_0: |0>─────\n",
      "               \n",
      "qr3_1: |0>─────\n",
      "               \n",
      "qr3_2: |0>─────\n",
      "               \n",
      "qr3_3: |0>─────\n",
      "               \n",
      "qr3_4: |0>─────\n",
      "               \n",
      "qr3_5: |0>─────\n",
      "               \n",
      "qr1_0: |0>─────\n",
      "               \n",
      "qr1_1: |0>─────\n",
      "               \n",
      "qr0_0: |0>─────\n",
      "               \n",
      "qr0_1: |0>─────\n",
      "               \n",
      "qr0_2: |0>─────\n",
      "               \n",
      "qr2_0: |0>─────\n",
      "               \n",
      " qr_0: |0>─────\n",
      "               \n",
      " qr_1: |0>─────\n",
      "          ┌───┐\n",
      " qr_2: |0>┤ H ├\n",
      "          └───┘\n",
      " qr_3: |0>─────\n",
      "               \n",
      " qr_4: |0>──■──\n",
      "          ┌─┴─┐\n",
      " qr_5: |0>┤ X ├\n",
      "          └───┘\n",
      " qr_6: |0>─────\n",
      "               \n",
      " qr_7: |0>─────\n",
      "          ┌───┐\n",
      " qr_8: |0>┤ X ├\n",
      "          └───┘\n",
      " qr_9: |0>─────\n",
      "               \n",
      "qr_10: |0>─────\n",
      "               \n",
      "qr_11: |0>─────\n",
      "               \n",
      " cr0_0: 0 ═════\n",
      "               \n",
      " cr0_1: 0 ═════\n",
      "               \n",
      " cr1_0: 0 ═════\n",
      "               \n",
      " cr1_1: 0 ═════\n",
      "               \n",
      " cr1_2: 0 ═════\n",
      "               \n"
     ]
    }
   ],
   "source": [
    "new_qc = qc.from_qasm_str(qasm_string)\n",
    "print(new_qc)"
   ]
  },
  {
   "cell_type": "code",
   "execution_count": 468,
   "metadata": {},
   "outputs": [
    {
     "name": "stdout",
     "output_type": "stream",
     "text": [
      "               \n",
      "qr3_0: |0>─────\n",
      "               \n",
      "qr3_1: |0>─────\n",
      "          ┌───┐\n",
      "qr3_2: |0>┤ H ├\n",
      "          └───┘\n",
      "qr3_3: |0>─────\n",
      "               \n",
      "qr3_4: |0>──■──\n",
      "          ┌─┴─┐\n",
      "qr3_5: |0>┤ X ├\n",
      "          └───┘\n",
      "qr1_0: |0>─────\n",
      "               \n",
      "qr1_1: |0>─────\n",
      "          ┌───┐\n",
      "qr0_0: |0>┤ X ├\n",
      "          └───┘\n",
      "qr0_1: |0>─────\n",
      "               \n",
      "qr0_2: |0>─────\n",
      "               \n",
      "qr2_0: |0>─────\n",
      "               \n",
      " cr0_0: 0 ═════\n",
      "               \n",
      " cr0_1: 0 ═════\n",
      "               \n",
      " cr1_0: 0 ═════\n",
      "               \n",
      " cr1_1: 0 ═════\n",
      "               \n",
      " cr1_2: 0 ═════\n",
      "               \n"
     ]
    }
   ],
   "source": [
    "print(qc)"
   ]
  },
  {
   "cell_type": "code",
   "execution_count": 469,
   "metadata": {},
   "outputs": [
    {
     "name": "stderr",
     "output_type": "stream",
     "text": [
      "No measurements in circuit \"circuit37\", classical register will remain all zeros.\n",
      "No measurements in circuit \"circuit38\", classical register will remain all zeros.\n"
     ]
    }
   ],
   "source": [
    "import qiskit\n",
    "from qiskit.providers.basicaer import QasmSimulatorPy\n",
    "c1 = qiskit.execute(qc, QasmSimulatorPy()).result().get_counts()\n",
    "c2 = qiskit.execute(new_qc, QasmSimulatorPy()).result().get_counts()"
   ]
  },
  {
   "cell_type": "code",
   "execution_count": null,
   "metadata": {},
   "outputs": [],
   "source": [
    "c1"
   ]
  },
  {
   "cell_type": "code",
   "execution_count": null,
   "metadata": {},
   "outputs": [],
   "source": [
    "c2"
   ]
  },
  {
   "cell_type": "code",
   "execution_count": null,
   "metadata": {},
   "outputs": [],
   "source": [
    "qc.depth()"
   ]
  },
  {
   "cell_type": "code",
   "execution_count": null,
   "metadata": {},
   "outputs": [],
   "source": [
    "qc.size()"
   ]
  },
  {
   "cell_type": "code",
   "execution_count": null,
   "metadata": {},
   "outputs": [],
   "source": [
    "new_qc.depth()"
   ]
  },
  {
   "cell_type": "code",
   "execution_count": null,
   "metadata": {},
   "outputs": [],
   "source": [
    "new_qc.size()"
   ]
  },
  {
   "cell_type": "code",
   "execution_count": null,
   "metadata": {},
   "outputs": [],
   "source": [
    "new_new_qc = qiskit.transpile(qc, basis_gates=['u3', 'cx'], optimization_level=2)"
   ]
  },
  {
   "cell_type": "code",
   "execution_count": null,
   "metadata": {},
   "outputs": [],
   "source": [
    "print(new_new_qc)"
   ]
  },
  {
   "cell_type": "code",
   "execution_count": null,
   "metadata": {},
   "outputs": [],
   "source": [
    "new_new_qc.depth()"
   ]
  },
  {
   "cell_type": "code",
   "execution_count": null,
   "metadata": {},
   "outputs": [],
   "source": [
    "new_new_qc.size()"
   ]
  },
  {
   "cell_type": "code",
   "execution_count": null,
   "metadata": {},
   "outputs": [],
   "source": [
    "doubly_qc = qiskit.transpile(new_qc, basis_gates=['u3', 'cx'], optimization_level=2)\n",
    "print(doubly_qc)"
   ]
  },
  {
   "cell_type": "code",
   "execution_count": null,
   "metadata": {},
   "outputs": [],
   "source": [
    "doubly_qc.depth()"
   ]
  },
  {
   "cell_type": "code",
   "execution_count": null,
   "metadata": {},
   "outputs": [],
   "source": [
    "doubly_qc.size()"
   ]
  },
  {
   "cell_type": "code",
   "execution_count": null,
   "metadata": {},
   "outputs": [],
   "source": []
  }
 ],
 "metadata": {
  "kernelspec": {
   "display_name": "Python 3",
   "language": "python",
   "name": "python3"
  },
  "language_info": {
   "codemirror_mode": {
    "name": "ipython",
    "version": 3
   },
   "file_extension": ".py",
   "mimetype": "text/x-python",
   "name": "python",
   "nbconvert_exporter": "python",
   "pygments_lexer": "ipython3",
   "version": "3.7.3"
  }
 },
 "nbformat": 4,
 "nbformat_minor": 2
}
